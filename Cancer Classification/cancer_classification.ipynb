{
 "cells": [
  {
   "cell_type": "code",
   "execution_count": 16,
   "id": "129fccac-31b2-48fb-a6d9-307c6ca48a5d",
   "metadata": {},
   "outputs": [],
   "source": [
    "import pandas as pd\n",
    "import numpy as np\n",
    "import matplotlib.pyplot as plt\n",
    "import seaborn as sns\n",
    "\n",
    "plt.style.use('fivethirtyeight')\n",
    "\n",
    "import warnings\n",
    "warnings.filterwarnings('ignore')"
   ]
  },
  {
   "cell_type": "code",
   "execution_count": 17,
   "id": "a15da97f-caf3-49ac-8379-05107d39679e",
   "metadata": {},
   "outputs": [],
   "source": [
    "from sklearn.datasets import load_breast_cancer"
   ]
  },
  {
   "cell_type": "code",
   "execution_count": 18,
   "id": "66285e67-a312-49a5-83da-87ecccb76248",
   "metadata": {},
   "outputs": [],
   "source": [
    "cancer = load_breast_cancer()"
   ]
  },
  {
   "cell_type": "code",
   "execution_count": 19,
   "id": "68dc5323-468b-4bcf-9545-2bb53ba1f43e",
   "metadata": {},
   "outputs": [
    {
     "data": {
      "text/plain": [
       "dict_keys(['data', 'target', 'frame', 'target_names', 'DESCR', 'feature_names', 'filename', 'data_module'])"
      ]
     },
     "execution_count": 19,
     "metadata": {},
     "output_type": "execute_result"
    }
   ],
   "source": [
    "cancer.keys()"
   ]
  },
  {
   "cell_type": "code",
   "execution_count": 20,
   "id": "e3fb4c30-dc00-4857-a6ee-b6fa992ac885",
   "metadata": {},
   "outputs": [
    {
     "data": {
      "text/plain": [
       "array(['malignant', 'benign'], dtype='<U9')"
      ]
     },
     "execution_count": 20,
     "metadata": {},
     "output_type": "execute_result"
    }
   ],
   "source": [
    "cancer.target_names"
   ]
  },
  {
   "cell_type": "code",
   "execution_count": 21,
   "id": "88c43ab0-070f-492f-87f2-7b219a994589",
   "metadata": {},
   "outputs": [],
   "source": [
    "df = pd.DataFrame(data = cancer.data, columns = cancer.feature_names)"
   ]
  },
  {
   "cell_type": "code",
   "execution_count": 22,
   "id": "f3a6a906-7ac6-4187-ae42-188cab9a6cc3",
   "metadata": {},
   "outputs": [
    {
     "data": {
      "text/html": [
       "<div>\n",
       "<style scoped>\n",
       "    .dataframe tbody tr th:only-of-type {\n",
       "        vertical-align: middle;\n",
       "    }\n",
       "\n",
       "    .dataframe tbody tr th {\n",
       "        vertical-align: top;\n",
       "    }\n",
       "\n",
       "    .dataframe thead th {\n",
       "        text-align: right;\n",
       "    }\n",
       "</style>\n",
       "<table border=\"1\" class=\"dataframe\">\n",
       "  <thead>\n",
       "    <tr style=\"text-align: right;\">\n",
       "      <th></th>\n",
       "      <th>mean radius</th>\n",
       "      <th>mean texture</th>\n",
       "      <th>mean perimeter</th>\n",
       "      <th>mean area</th>\n",
       "      <th>mean smoothness</th>\n",
       "      <th>mean compactness</th>\n",
       "      <th>mean concavity</th>\n",
       "      <th>mean concave points</th>\n",
       "      <th>mean symmetry</th>\n",
       "      <th>mean fractal dimension</th>\n",
       "      <th>...</th>\n",
       "      <th>worst radius</th>\n",
       "      <th>worst texture</th>\n",
       "      <th>worst perimeter</th>\n",
       "      <th>worst area</th>\n",
       "      <th>worst smoothness</th>\n",
       "      <th>worst compactness</th>\n",
       "      <th>worst concavity</th>\n",
       "      <th>worst concave points</th>\n",
       "      <th>worst symmetry</th>\n",
       "      <th>worst fractal dimension</th>\n",
       "    </tr>\n",
       "  </thead>\n",
       "  <tbody>\n",
       "    <tr>\n",
       "      <th>0</th>\n",
       "      <td>17.99</td>\n",
       "      <td>10.38</td>\n",
       "      <td>122.80</td>\n",
       "      <td>1001.0</td>\n",
       "      <td>0.11840</td>\n",
       "      <td>0.27760</td>\n",
       "      <td>0.3001</td>\n",
       "      <td>0.14710</td>\n",
       "      <td>0.2419</td>\n",
       "      <td>0.07871</td>\n",
       "      <td>...</td>\n",
       "      <td>25.38</td>\n",
       "      <td>17.33</td>\n",
       "      <td>184.60</td>\n",
       "      <td>2019.0</td>\n",
       "      <td>0.1622</td>\n",
       "      <td>0.6656</td>\n",
       "      <td>0.7119</td>\n",
       "      <td>0.2654</td>\n",
       "      <td>0.4601</td>\n",
       "      <td>0.11890</td>\n",
       "    </tr>\n",
       "    <tr>\n",
       "      <th>1</th>\n",
       "      <td>20.57</td>\n",
       "      <td>17.77</td>\n",
       "      <td>132.90</td>\n",
       "      <td>1326.0</td>\n",
       "      <td>0.08474</td>\n",
       "      <td>0.07864</td>\n",
       "      <td>0.0869</td>\n",
       "      <td>0.07017</td>\n",
       "      <td>0.1812</td>\n",
       "      <td>0.05667</td>\n",
       "      <td>...</td>\n",
       "      <td>24.99</td>\n",
       "      <td>23.41</td>\n",
       "      <td>158.80</td>\n",
       "      <td>1956.0</td>\n",
       "      <td>0.1238</td>\n",
       "      <td>0.1866</td>\n",
       "      <td>0.2416</td>\n",
       "      <td>0.1860</td>\n",
       "      <td>0.2750</td>\n",
       "      <td>0.08902</td>\n",
       "    </tr>\n",
       "    <tr>\n",
       "      <th>2</th>\n",
       "      <td>19.69</td>\n",
       "      <td>21.25</td>\n",
       "      <td>130.00</td>\n",
       "      <td>1203.0</td>\n",
       "      <td>0.10960</td>\n",
       "      <td>0.15990</td>\n",
       "      <td>0.1974</td>\n",
       "      <td>0.12790</td>\n",
       "      <td>0.2069</td>\n",
       "      <td>0.05999</td>\n",
       "      <td>...</td>\n",
       "      <td>23.57</td>\n",
       "      <td>25.53</td>\n",
       "      <td>152.50</td>\n",
       "      <td>1709.0</td>\n",
       "      <td>0.1444</td>\n",
       "      <td>0.4245</td>\n",
       "      <td>0.4504</td>\n",
       "      <td>0.2430</td>\n",
       "      <td>0.3613</td>\n",
       "      <td>0.08758</td>\n",
       "    </tr>\n",
       "    <tr>\n",
       "      <th>3</th>\n",
       "      <td>11.42</td>\n",
       "      <td>20.38</td>\n",
       "      <td>77.58</td>\n",
       "      <td>386.1</td>\n",
       "      <td>0.14250</td>\n",
       "      <td>0.28390</td>\n",
       "      <td>0.2414</td>\n",
       "      <td>0.10520</td>\n",
       "      <td>0.2597</td>\n",
       "      <td>0.09744</td>\n",
       "      <td>...</td>\n",
       "      <td>14.91</td>\n",
       "      <td>26.50</td>\n",
       "      <td>98.87</td>\n",
       "      <td>567.7</td>\n",
       "      <td>0.2098</td>\n",
       "      <td>0.8663</td>\n",
       "      <td>0.6869</td>\n",
       "      <td>0.2575</td>\n",
       "      <td>0.6638</td>\n",
       "      <td>0.17300</td>\n",
       "    </tr>\n",
       "    <tr>\n",
       "      <th>4</th>\n",
       "      <td>20.29</td>\n",
       "      <td>14.34</td>\n",
       "      <td>135.10</td>\n",
       "      <td>1297.0</td>\n",
       "      <td>0.10030</td>\n",
       "      <td>0.13280</td>\n",
       "      <td>0.1980</td>\n",
       "      <td>0.10430</td>\n",
       "      <td>0.1809</td>\n",
       "      <td>0.05883</td>\n",
       "      <td>...</td>\n",
       "      <td>22.54</td>\n",
       "      <td>16.67</td>\n",
       "      <td>152.20</td>\n",
       "      <td>1575.0</td>\n",
       "      <td>0.1374</td>\n",
       "      <td>0.2050</td>\n",
       "      <td>0.4000</td>\n",
       "      <td>0.1625</td>\n",
       "      <td>0.2364</td>\n",
       "      <td>0.07678</td>\n",
       "    </tr>\n",
       "  </tbody>\n",
       "</table>\n",
       "<p>5 rows × 30 columns</p>\n",
       "</div>"
      ],
      "text/plain": [
       "   mean radius  mean texture  mean perimeter  mean area  mean smoothness  \\\n",
       "0        17.99         10.38          122.80     1001.0          0.11840   \n",
       "1        20.57         17.77          132.90     1326.0          0.08474   \n",
       "2        19.69         21.25          130.00     1203.0          0.10960   \n",
       "3        11.42         20.38           77.58      386.1          0.14250   \n",
       "4        20.29         14.34          135.10     1297.0          0.10030   \n",
       "\n",
       "   mean compactness  mean concavity  mean concave points  mean symmetry  \\\n",
       "0           0.27760          0.3001              0.14710         0.2419   \n",
       "1           0.07864          0.0869              0.07017         0.1812   \n",
       "2           0.15990          0.1974              0.12790         0.2069   \n",
       "3           0.28390          0.2414              0.10520         0.2597   \n",
       "4           0.13280          0.1980              0.10430         0.1809   \n",
       "\n",
       "   mean fractal dimension  ...  worst radius  worst texture  worst perimeter  \\\n",
       "0                 0.07871  ...         25.38          17.33           184.60   \n",
       "1                 0.05667  ...         24.99          23.41           158.80   \n",
       "2                 0.05999  ...         23.57          25.53           152.50   \n",
       "3                 0.09744  ...         14.91          26.50            98.87   \n",
       "4                 0.05883  ...         22.54          16.67           152.20   \n",
       "\n",
       "   worst area  worst smoothness  worst compactness  worst concavity  \\\n",
       "0      2019.0            0.1622             0.6656           0.7119   \n",
       "1      1956.0            0.1238             0.1866           0.2416   \n",
       "2      1709.0            0.1444             0.4245           0.4504   \n",
       "3       567.7            0.2098             0.8663           0.6869   \n",
       "4      1575.0            0.1374             0.2050           0.4000   \n",
       "\n",
       "   worst concave points  worst symmetry  worst fractal dimension  \n",
       "0                0.2654          0.4601                  0.11890  \n",
       "1                0.1860          0.2750                  0.08902  \n",
       "2                0.2430          0.3613                  0.08758  \n",
       "3                0.2575          0.6638                  0.17300  \n",
       "4                0.1625          0.2364                  0.07678  \n",
       "\n",
       "[5 rows x 30 columns]"
      ]
     },
     "execution_count": 22,
     "metadata": {},
     "output_type": "execute_result"
    }
   ],
   "source": [
    "df.head()"
   ]
  },
  {
   "cell_type": "markdown",
   "id": "84fa2ae2-87dc-43c6-b1d5-524b94fd89be",
   "metadata": {},
   "source": [
    "## DATA VISUALIZATION AND PREPROCESSING "
   ]
  },
  {
   "cell_type": "code",
   "execution_count": 23,
   "id": "43d14ef9-468f-4a5a-bdb1-3f788b05055d",
   "metadata": {},
   "outputs": [],
   "source": [
    "df['target'] = cancer.target"
   ]
  },
  {
   "cell_type": "code",
   "execution_count": 24,
   "id": "00175781-cd62-4af7-9b7a-b1342dfd5cca",
   "metadata": {},
   "outputs": [],
   "source": [
    "df['target'] = df['target'].map({0:'benign', 1:'malignant'})"
   ]
  },
  {
   "cell_type": "code",
   "execution_count": 25,
   "id": "cc97004b-b855-4d3a-9d4b-db0c9c7c6aad",
   "metadata": {},
   "outputs": [
    {
     "data": {
      "text/plain": [
       "<Axes: xlabel='target', ylabel='count'>"
      ]
     },
     "execution_count": 25,
     "metadata": {},
     "output_type": "execute_result"
    },
    {
     "data": {
      "image/png": "[encoded data removed]",
      "text/plain": [
       "<Figure size 640x480 with 1 Axes>"
      ]
     },
     "metadata": {},
     "output_type": "display_data"
    }
   ],
   "source": [
    "sns.countplot(x = 'target', data = df)"
   ]
  },
  {
   "cell_type": "code",
   "execution_count": 26,
   "id": "7d61ee27-7bff-4c4b-8b8a-d03da11db943",
   "metadata": {},
   "outputs": [
    {
     "name": "stdout",
     "output_type": "stream",
     "text": [
      "<class 'pandas.core.frame.DataFrame'>\n",
      "RangeIndex: 569 entries, 0 to 568\n",
      "Data columns (total 31 columns):\n",
      " #   Column                   Non-Null Count  Dtype  \n",
      "---  ------                   --------------  -----  \n",
      " 0   mean radius              569 non-null    float64\n",
      " 1   mean texture             569 non-null    float64\n",
      " 2   mean perimeter           569 non-null    float64\n",
      " 3   mean area                569 non-null    float64\n",
      " 4   mean smoothness          569 non-null    float64\n",
      " 5   mean compactness         569 non-null    float64\n",
      " 6   mean concavity           569 non-null    float64\n",
      " 7   mean concave points      569 non-null    float64\n",
      " 8   mean symmetry            569 non-null    float64\n",
      " 9   mean fractal dimension   569 non-null    float64\n",
      " 10  radius error             569 non-null    float64\n",
      " 11  texture error            569 non-null    float64\n",
      " 12  perimeter error          569 non-null    float64\n",
      " 13  area error               569 non-null    float64\n",
      " 14  smoothness error         569 non-null    float64\n",
      " 15  compactness error        569 non-null    float64\n",
      " 16  concavity error          569 non-null    float64\n",
      " 17  concave points error     569 non-null    float64\n",
      " 18  symmetry error           569 non-null    float64\n",
      " 19  fractal dimension error  569 non-null    float64\n",
      " 20  worst radius             569 non-null    float64\n",
      " 21  worst texture            569 non-null    float64\n",
      " 22  worst perimeter          569 non-null    float64\n",
      " 23  worst area               569 non-null    float64\n",
      " 24  worst smoothness         569 non-null    float64\n",
      " 25  worst compactness        569 non-null    float64\n",
      " 26  worst concavity          569 non-null    float64\n",
      " 27  worst concave points     569 non-null    float64\n",
      " 28  worst symmetry           569 non-null    float64\n",
      " 29  worst fractal dimension  569 non-null    float64\n",
      " 30  target                   569 non-null    object \n",
      "dtypes: float64(30), object(1)\n",
      "memory usage: 137.9+ KB\n"
     ]
    }
   ],
   "source": [
    "df.info()"
   ]
  },
  {
   "cell_type": "markdown",
   "id": "bb42626e-4782-44ea-866d-3e8b6a90ea2e",
   "metadata": {},
   "source": [
    "### Model Selection"
   ]
  },
  {
   "cell_type": "code",
   "execution_count": 27,
   "id": "446a68f3-3b95-456d-b298-c31fa786099f",
   "metadata": {},
   "outputs": [],
   "source": [
    "from sklearn.model_selection import train_test_split"
   ]
  },
  {
   "cell_type": "code",
   "execution_count": 28,
   "id": "71a70348-853c-4c36-81d3-9bb5065a7b08",
   "metadata": {},
   "outputs": [],
   "source": [
    "X = cancer.data\n",
    "y = cancer.target\n",
    "\n",
    "X_train, X_test, y_train, y_test = train_test_split(X, y, test_size = 0.30, random_state = 42)"
   ]
  },
  {
   "cell_type": "markdown",
   "id": "653fa224-ae51-4a52-b133-e6d3f4a2c98b",
   "metadata": {},
   "source": [
    "## Machine Learning Classification"
   ]
  },
  {
   "cell_type": "markdown",
   "id": "c654573b-5a5a-4220-ba3d-1454aca964c4",
   "metadata": {},
   "source": [
    "### Logistic Regression"
   ]
  },
  {
   "cell_type": "code",
   "execution_count": 29,
   "id": "b175f6a6-6664-4967-b77f-d501d2495fbe",
   "metadata": {},
   "outputs": [],
   "source": [
    "from sklearn.linear_model import LogisticRegression\n",
    "from sklearn.svm import SVC\n",
    "from sklearn.tree import DecisionTreeClassifier\n"
   ]
  },
  {
   "cell_type": "code",
   "execution_count": 30,
   "id": "06f1028d-f7e1-4b24-9736-b130fc14ed48",
   "metadata": {},
   "outputs": [
    {
     "data": {
      "text/html": [
       "<style>#sk-container-id-1 {color: black;background-color: white;}#sk-container-id-1 pre{padding: 0;}#sk-container-id-1 div.sk-toggleable {background-color: white;}#sk-container-id-1 label.sk-toggleable__label {cursor: pointer;display: block;width: 100%;margin-bottom: 0;padding: 0.3em;box-sizing: border-box;text-align: center;}#sk-container-id-1 label.sk-toggleable__label-arrow:before {content: \"▸\";float: left;margin-right: 0.25em;color: #696969;}#sk-container-id-1 label.sk-toggleable__label-arrow:hover:before {color: black;}#sk-container-id-1 div.sk-estimator:hover label.sk-toggleable__label-arrow:before {color: black;}#sk-container-id-1 div.sk-toggleable__content {max-height: 0;max-width: 0;overflow: hidden;text-align: left;background-color: #f0f8ff;}#sk-container-id-1 div.sk-toggleable__content pre {margin: 0.2em;color: black;border-radius: 0.25em;background-color: #f0f8ff;}#sk-container-id-1 input.sk-toggleable__control:checked~div.sk-toggleable__content {max-height: 200px;max-width: 100%;overflow: auto;}#sk-container-id-1 input.sk-toggleable__control:checked~label.sk-toggleable__label-arrow:before {content: \"▾\";}#sk-container-id-1 div.sk-estimator input.sk-toggleable__control:checked~label.sk-toggleable__label {background-color: #d4ebff;}#sk-container-id-1 div.sk-label input.sk-toggleable__control:checked~label.sk-toggleable__label {background-color: #d4ebff;}#sk-container-id-1 input.sk-hidden--visually {border: 0;clip: rect(1px 1px 1px 1px);clip: rect(1px, 1px, 1px, 1px);height: 1px;margin: -1px;overflow: hidden;padding: 0;position: absolute;width: 1px;}#sk-container-id-1 div.sk-estimator {font-family: monospace;background-color: #f0f8ff;border: 1px dotted black;border-radius: 0.25em;box-sizing: border-box;margin-bottom: 0.5em;}#sk-container-id-1 div.sk-estimator:hover {background-color: #d4ebff;}#sk-container-id-1 div.sk-parallel-item::after {content: \"\";width: 100%;border-bottom: 1px solid gray;flex-grow: 1;}#sk-container-id-1 div.sk-label:hover label.sk-toggleable__label {background-color: #d4ebff;}#sk-container-id-1 div.sk-serial::before {content: \"\";position: absolute;border-left: 1px solid gray;box-sizing: border-box;top: 0;bottom: 0;left: 50%;z-index: 0;}#sk-container-id-1 div.sk-serial {display: flex;flex-direction: column;align-items: center;background-color: white;padding-right: 0.2em;padding-left: 0.2em;position: relative;}#sk-container-id-1 div.sk-item {position: relative;z-index: 1;}#sk-container-id-1 div.sk-parallel {display: flex;align-items: stretch;justify-content: center;background-color: white;position: relative;}#sk-container-id-1 div.sk-item::before, #sk-container-id-1 div.sk-parallel-item::before {content: \"\";position: absolute;border-left: 1px solid gray;box-sizing: border-box;top: 0;bottom: 0;left: 50%;z-index: -1;}#sk-container-id-1 div.sk-parallel-item {display: flex;flex-direction: column;z-index: 1;position: relative;background-color: white;}#sk-container-id-1 div.sk-parallel-item:first-child::after {align-self: flex-end;width: 50%;}#sk-container-id-1 div.sk-parallel-item:last-child::after {align-self: flex-start;width: 50%;}#sk-container-id-1 div.sk-parallel-item:only-child::after {width: 0;}#sk-container-id-1 div.sk-dashed-wrapped {border: 1px dashed gray;margin: 0 0.4em 0.5em 0.4em;box-sizing: border-box;padding-bottom: 0.4em;background-color: white;}#sk-container-id-1 div.sk-label label {font-family: monospace;font-weight: bold;display: inline-block;line-height: 1.2em;}#sk-container-id-1 div.sk-label-container {text-align: center;}#sk-container-id-1 div.sk-container {/* jupyter's `normalize.less` sets `[hidden] { display: none; }` but bootstrap.min.css set `[hidden] { display: none !important; }` so we also need the `!important` here to be able to override the default hidden behavior on the sphinx rendered scikit-learn.org. See: https://github.com/scikit-learn/scikit-learn/issues/21755 */display: inline-block !important;position: relative;}#sk-container-id-1 div.sk-text-repr-fallback {display: none;}</style><div id=\"sk-container-id-1\" class=\"sk-top-container\"><div class=\"sk-text-repr-fallback\"><pre>LogisticRegression()</pre><b>In a Jupyter environment, please rerun this cell to show the HTML representation or trust the notebook. <br />On GitHub, the HTML representation is unable to render, please try loading this page with nbviewer.org.</b></div><div class=\"sk-container\" hidden><div class=\"sk-item\"><div class=\"sk-estimator sk-toggleable\"><input class=\"sk-toggleable__control sk-hidden--visually\" id=\"sk-estimator-id-1\" type=\"checkbox\" checked><label for=\"sk-estimator-id-1\" class=\"sk-toggleable__label sk-toggleable__label-arrow\">LogisticRegression</label><div class=\"sk-toggleable__content\"><pre>LogisticRegression()</pre></div></div></div></div></div>"
      ],
      "text/plain": [
       "LogisticRegression()"
      ]
     },
     "execution_count": 30,
     "metadata": {},
     "output_type": "execute_result"
    }
   ],
   "source": [
    "lr = LogisticRegression()\n",
    "lr.fit(X_train, y_train)"
   ]
  },
  {
   "cell_type": "markdown",
   "id": "0d7a3fa7-39fa-42c5-ac2f-9a4c07e4ffb6",
   "metadata": {},
   "source": [
    "### Support Vector Machine"
   ]
  },
  {
   "cell_type": "code",
   "execution_count": 31,
   "id": "08db1ef2-5cdc-4fbc-a627-d7be3c90686d",
   "metadata": {},
   "outputs": [],
   "source": [
    "from sklearn.model_selection import GridSearchCV"
   ]
  },
  {
   "cell_type": "code",
   "execution_count": 32,
   "id": "cf5d6518-ff5c-43f7-bae6-d4e10cb65f69",
   "metadata": {},
   "outputs": [
    {
     "data": {
      "text/html": [
       "<style>#sk-container-id-2 {color: black;background-color: white;}#sk-container-id-2 pre{padding: 0;}#sk-container-id-2 div.sk-toggleable {background-color: white;}#sk-container-id-2 label.sk-toggleable__label {cursor: pointer;display: block;width: 100%;margin-bottom: 0;padding: 0.3em;box-sizing: border-box;text-align: center;}#sk-container-id-2 label.sk-toggleable__label-arrow:before {content: \"▸\";float: left;margin-right: 0.25em;color: #696969;}#sk-container-id-2 label.sk-toggleable__label-arrow:hover:before {color: black;}#sk-container-id-2 div.sk-estimator:hover label.sk-toggleable__label-arrow:before {color: black;}#sk-container-id-2 div.sk-toggleable__content {max-height: 0;max-width: 0;overflow: hidden;text-align: left;background-color: #f0f8ff;}#sk-container-id-2 div.sk-toggleable__content pre {margin: 0.2em;color: black;border-radius: 0.25em;background-color: #f0f8ff;}#sk-container-id-2 input.sk-toggleable__control:checked~div.sk-toggleable__content {max-height: 200px;max-width: 100%;overflow: auto;}#sk-container-id-2 input.sk-toggleable__control:checked~label.sk-toggleable__label-arrow:before {content: \"▾\";}#sk-container-id-2 div.sk-estimator input.sk-toggleable__control:checked~label.sk-toggleable__label {background-color: #d4ebff;}#sk-container-id-2 div.sk-label input.sk-toggleable__control:checked~label.sk-toggleable__label {background-color: #d4ebff;}#sk-container-id-2 input.sk-hidden--visually {border: 0;clip: rect(1px 1px 1px 1px);clip: rect(1px, 1px, 1px, 1px);height: 1px;margin: -1px;overflow: hidden;padding: 0;position: absolute;width: 1px;}#sk-container-id-2 div.sk-estimator {font-family: monospace;background-color: #f0f8ff;border: 1px dotted black;border-radius: 0.25em;box-sizing: border-box;margin-bottom: 0.5em;}#sk-container-id-2 div.sk-estimator:hover {background-color: #d4ebff;}#sk-container-id-2 div.sk-parallel-item::after {content: \"\";width: 100%;border-bottom: 1px solid gray;flex-grow: 1;}#sk-container-id-2 div.sk-label:hover label.sk-toggleable__label {background-color: #d4ebff;}#sk-container-id-2 div.sk-serial::before {content: \"\";position: absolute;border-left: 1px solid gray;box-sizing: border-box;top: 0;bottom: 0;left: 50%;z-index: 0;}#sk-container-id-2 div.sk-serial {display: flex;flex-direction: column;align-items: center;background-color: white;padding-right: 0.2em;padding-left: 0.2em;position: relative;}#sk-container-id-2 div.sk-item {position: relative;z-index: 1;}#sk-container-id-2 div.sk-parallel {display: flex;align-items: stretch;justify-content: center;background-color: white;position: relative;}#sk-container-id-2 div.sk-item::before, #sk-container-id-2 div.sk-parallel-item::before {content: \"\";position: absolute;border-left: 1px solid gray;box-sizing: border-box;top: 0;bottom: 0;left: 50%;z-index: -1;}#sk-container-id-2 div.sk-parallel-item {display: flex;flex-direction: column;z-index: 1;position: relative;background-color: white;}#sk-container-id-2 div.sk-parallel-item:first-child::after {align-self: flex-end;width: 50%;}#sk-container-id-2 div.sk-parallel-item:last-child::after {align-self: flex-start;width: 50%;}#sk-container-id-2 div.sk-parallel-item:only-child::after {width: 0;}#sk-container-id-2 div.sk-dashed-wrapped {border: 1px dashed gray;margin: 0 0.4em 0.5em 0.4em;box-sizing: border-box;padding-bottom: 0.4em;background-color: white;}#sk-container-id-2 div.sk-label label {font-family: monospace;font-weight: bold;display: inline-block;line-height: 1.2em;}#sk-container-id-2 div.sk-label-container {text-align: center;}#sk-container-id-2 div.sk-container {/* jupyter's `normalize.less` sets `[hidden] { display: none; }` but bootstrap.min.css set `[hidden] { display: none !important; }` so we also need the `!important` here to be able to override the default hidden behavior on the sphinx rendered scikit-learn.org. See: https://github.com/scikit-learn/scikit-learn/issues/21755 */display: inline-block !important;position: relative;}#sk-container-id-2 div.sk-text-repr-fallback {display: none;}</style><div id=\"sk-container-id-2\" class=\"sk-top-container\"><div class=\"sk-text-repr-fallback\"><pre>GridSearchCV(estimator=SVC(),\n",
       "             param_grid={&#x27;C&#x27;: [0.001, 0.01, 0.1, 1, 10, 100],\n",
       "                         &#x27;gamma&#x27;: [0.001, 0.01, 0.1, 1, 10, 100]})</pre><b>In a Jupyter environment, please rerun this cell to show the HTML representation or trust the notebook. <br />On GitHub, the HTML representation is unable to render, please try loading this page with nbviewer.org.</b></div><div class=\"sk-container\" hidden><div class=\"sk-item sk-dashed-wrapped\"><div class=\"sk-label-container\"><div class=\"sk-label sk-toggleable\"><input class=\"sk-toggleable__control sk-hidden--visually\" id=\"sk-estimator-id-2\" type=\"checkbox\" ><label for=\"sk-estimator-id-2\" class=\"sk-toggleable__label sk-toggleable__label-arrow\">GridSearchCV</label><div class=\"sk-toggleable__content\"><pre>GridSearchCV(estimator=SVC(),\n",
       "             param_grid={&#x27;C&#x27;: [0.001, 0.01, 0.1, 1, 10, 100],\n",
       "                         &#x27;gamma&#x27;: [0.001, 0.01, 0.1, 1, 10, 100]})</pre></div></div></div><div class=\"sk-parallel\"><div class=\"sk-parallel-item\"><div class=\"sk-item\"><div class=\"sk-label-container\"><div class=\"sk-label sk-toggleable\"><input class=\"sk-toggleable__control sk-hidden--visually\" id=\"sk-estimator-id-3\" type=\"checkbox\" ><label for=\"sk-estimator-id-3\" class=\"sk-toggleable__label sk-toggleable__label-arrow\">estimator: SVC</label><div class=\"sk-toggleable__content\"><pre>SVC()</pre></div></div></div><div class=\"sk-serial\"><div class=\"sk-item\"><div class=\"sk-estimator sk-toggleable\"><input class=\"sk-toggleable__control sk-hidden--visually\" id=\"sk-estimator-id-4\" type=\"checkbox\" ><label for=\"sk-estimator-id-4\" class=\"sk-toggleable__label sk-toggleable__label-arrow\">SVC</label><div class=\"sk-toggleable__content\"><pre>SVC()</pre></div></div></div></div></div></div></div></div></div></div>"
      ],
      "text/plain": [
       "GridSearchCV(estimator=SVC(),\n",
       "             param_grid={'C': [0.001, 0.01, 0.1, 1, 10, 100],\n",
       "                         'gamma': [0.001, 0.01, 0.1, 1, 10, 100]})"
      ]
     },
     "execution_count": 32,
     "metadata": {},
     "output_type": "execute_result"
    }
   ],
   "source": [
    "svm = SVC()\n",
    "\n",
    "params = {'C': [0.001, 0.01, 0.1, 1, 10, 100], 'gamma': [0.001, 0.01, 0.1, 1, 10, 100]}\n",
    "\n",
    "grid_search = GridSearchCV(estimator = svm, param_grid = params)\n",
    "grid_search.fit(X_train, y_train)"
   ]
  },
  {
   "cell_type": "code",
   "execution_count": 33,
   "id": "dfebdbb1-eec0-40d3-a720-6e23f8ed43c2",
   "metadata": {},
   "outputs": [
    {
     "name": "stdout",
     "output_type": "stream",
     "text": [
      "0.9119303797468354\n",
      "SVC(C=1, gamma=0.001)\n"
     ]
    }
   ],
   "source": [
    "print(grid_search.best_score_)\n",
    "print(grid_search.best_estimator_)"
   ]
  },
  {
   "cell_type": "code",
   "execution_count": 34,
   "id": "40171733-fdba-48f4-9c46-af2c47b5d881",
   "metadata": {},
   "outputs": [
    {
     "data": {
      "text/html": [
       "<style>#sk-container-id-3 {color: black;background-color: white;}#sk-container-id-3 pre{padding: 0;}#sk-container-id-3 div.sk-toggleable {background-color: white;}#sk-container-id-3 label.sk-toggleable__label {cursor: pointer;display: block;width: 100%;margin-bottom: 0;padding: 0.3em;box-sizing: border-box;text-align: center;}#sk-container-id-3 label.sk-toggleable__label-arrow:before {content: \"▸\";float: left;margin-right: 0.25em;color: #696969;}#sk-container-id-3 label.sk-toggleable__label-arrow:hover:before {color: black;}#sk-container-id-3 div.sk-estimator:hover label.sk-toggleable__label-arrow:before {color: black;}#sk-container-id-3 div.sk-toggleable__content {max-height: 0;max-width: 0;overflow: hidden;text-align: left;background-color: #f0f8ff;}#sk-container-id-3 div.sk-toggleable__content pre {margin: 0.2em;color: black;border-radius: 0.25em;background-color: #f0f8ff;}#sk-container-id-3 input.sk-toggleable__control:checked~div.sk-toggleable__content {max-height: 200px;max-width: 100%;overflow: auto;}#sk-container-id-3 input.sk-toggleable__control:checked~label.sk-toggleable__label-arrow:before {content: \"▾\";}#sk-container-id-3 div.sk-estimator input.sk-toggleable__control:checked~label.sk-toggleable__label {background-color: #d4ebff;}#sk-container-id-3 div.sk-label input.sk-toggleable__control:checked~label.sk-toggleable__label {background-color: #d4ebff;}#sk-container-id-3 input.sk-hidden--visually {border: 0;clip: rect(1px 1px 1px 1px);clip: rect(1px, 1px, 1px, 1px);height: 1px;margin: -1px;overflow: hidden;padding: 0;position: absolute;width: 1px;}#sk-container-id-3 div.sk-estimator {font-family: monospace;background-color: #f0f8ff;border: 1px dotted black;border-radius: 0.25em;box-sizing: border-box;margin-bottom: 0.5em;}#sk-container-id-3 div.sk-estimator:hover {background-color: #d4ebff;}#sk-container-id-3 div.sk-parallel-item::after {content: \"\";width: 100%;border-bottom: 1px solid gray;flex-grow: 1;}#sk-container-id-3 div.sk-label:hover label.sk-toggleable__label {background-color: #d4ebff;}#sk-container-id-3 div.sk-serial::before {content: \"\";position: absolute;border-left: 1px solid gray;box-sizing: border-box;top: 0;bottom: 0;left: 50%;z-index: 0;}#sk-container-id-3 div.sk-serial {display: flex;flex-direction: column;align-items: center;background-color: white;padding-right: 0.2em;padding-left: 0.2em;position: relative;}#sk-container-id-3 div.sk-item {position: relative;z-index: 1;}#sk-container-id-3 div.sk-parallel {display: flex;align-items: stretch;justify-content: center;background-color: white;position: relative;}#sk-container-id-3 div.sk-item::before, #sk-container-id-3 div.sk-parallel-item::before {content: \"\";position: absolute;border-left: 1px solid gray;box-sizing: border-box;top: 0;bottom: 0;left: 50%;z-index: -1;}#sk-container-id-3 div.sk-parallel-item {display: flex;flex-direction: column;z-index: 1;position: relative;background-color: white;}#sk-container-id-3 div.sk-parallel-item:first-child::after {align-self: flex-end;width: 50%;}#sk-container-id-3 div.sk-parallel-item:last-child::after {align-self: flex-start;width: 50%;}#sk-container-id-3 div.sk-parallel-item:only-child::after {width: 0;}#sk-container-id-3 div.sk-dashed-wrapped {border: 1px dashed gray;margin: 0 0.4em 0.5em 0.4em;box-sizing: border-box;padding-bottom: 0.4em;background-color: white;}#sk-container-id-3 div.sk-label label {font-family: monospace;font-weight: bold;display: inline-block;line-height: 1.2em;}#sk-container-id-3 div.sk-label-container {text-align: center;}#sk-container-id-3 div.sk-container {/* jupyter's `normalize.less` sets `[hidden] { display: none; }` but bootstrap.min.css set `[hidden] { display: none !important; }` so we also need the `!important` here to be able to override the default hidden behavior on the sphinx rendered scikit-learn.org. See: https://github.com/scikit-learn/scikit-learn/issues/21755 */display: inline-block !important;position: relative;}#sk-container-id-3 div.sk-text-repr-fallback {display: none;}</style><div id=\"sk-container-id-3\" class=\"sk-top-container\"><div class=\"sk-text-repr-fallback\"><pre>SVC(C=1, gamma=0.001)</pre><b>In a Jupyter environment, please rerun this cell to show the HTML representation or trust the notebook. <br />On GitHub, the HTML representation is unable to render, please try loading this page with nbviewer.org.</b></div><div class=\"sk-container\" hidden><div class=\"sk-item\"><div class=\"sk-estimator sk-toggleable\"><input class=\"sk-toggleable__control sk-hidden--visually\" id=\"sk-estimator-id-5\" type=\"checkbox\" checked><label for=\"sk-estimator-id-5\" class=\"sk-toggleable__label sk-toggleable__label-arrow\">SVC</label><div class=\"sk-toggleable__content\"><pre>SVC(C=1, gamma=0.001)</pre></div></div></div></div></div>"
      ],
      "text/plain": [
       "SVC(C=1, gamma=0.001)"
      ]
     },
     "execution_count": 34,
     "metadata": {},
     "output_type": "execute_result"
    }
   ],
   "source": [
    "svm = SVC(C=1, gamma=0.001)\n",
    "svm.fit(X_train, y_train)"
   ]
  },
  {
   "cell_type": "markdown",
   "id": "c9b1435c-a128-49fc-b201-f98e58ec482c",
   "metadata": {},
   "source": [
    "### Decision Tree"
   ]
  },
  {
   "cell_type": "code",
   "execution_count": 35,
   "id": "dbc16ee4-e007-44ba-97c9-98aeecaf6ea9",
   "metadata": {},
   "outputs": [
    {
     "data": {
      "text/html": [
       "<style>#sk-container-id-4 {color: black;background-color: white;}#sk-container-id-4 pre{padding: 0;}#sk-container-id-4 div.sk-toggleable {background-color: white;}#sk-container-id-4 label.sk-toggleable__label {cursor: pointer;display: block;width: 100%;margin-bottom: 0;padding: 0.3em;box-sizing: border-box;text-align: center;}#sk-container-id-4 label.sk-toggleable__label-arrow:before {content: \"▸\";float: left;margin-right: 0.25em;color: #696969;}#sk-container-id-4 label.sk-toggleable__label-arrow:hover:before {color: black;}#sk-container-id-4 div.sk-estimator:hover label.sk-toggleable__label-arrow:before {color: black;}#sk-container-id-4 div.sk-toggleable__content {max-height: 0;max-width: 0;overflow: hidden;text-align: left;background-color: #f0f8ff;}#sk-container-id-4 div.sk-toggleable__content pre {margin: 0.2em;color: black;border-radius: 0.25em;background-color: #f0f8ff;}#sk-container-id-4 input.sk-toggleable__control:checked~div.sk-toggleable__content {max-height: 200px;max-width: 100%;overflow: auto;}#sk-container-id-4 input.sk-toggleable__control:checked~label.sk-toggleable__label-arrow:before {content: \"▾\";}#sk-container-id-4 div.sk-estimator input.sk-toggleable__control:checked~label.sk-toggleable__label {background-color: #d4ebff;}#sk-container-id-4 div.sk-label input.sk-toggleable__control:checked~label.sk-toggleable__label {background-color: #d4ebff;}#sk-container-id-4 input.sk-hidden--visually {border: 0;clip: rect(1px 1px 1px 1px);clip: rect(1px, 1px, 1px, 1px);height: 1px;margin: -1px;overflow: hidden;padding: 0;position: absolute;width: 1px;}#sk-container-id-4 div.sk-estimator {font-family: monospace;background-color: #f0f8ff;border: 1px dotted black;border-radius: 0.25em;box-sizing: border-box;margin-bottom: 0.5em;}#sk-container-id-4 div.sk-estimator:hover {background-color: #d4ebff;}#sk-container-id-4 div.sk-parallel-item::after {content: \"\";width: 100%;border-bottom: 1px solid gray;flex-grow: 1;}#sk-container-id-4 div.sk-label:hover label.sk-toggleable__label {background-color: #d4ebff;}#sk-container-id-4 div.sk-serial::before {content: \"\";position: absolute;border-left: 1px solid gray;box-sizing: border-box;top: 0;bottom: 0;left: 50%;z-index: 0;}#sk-container-id-4 div.sk-serial {display: flex;flex-direction: column;align-items: center;background-color: white;padding-right: 0.2em;padding-left: 0.2em;position: relative;}#sk-container-id-4 div.sk-item {position: relative;z-index: 1;}#sk-container-id-4 div.sk-parallel {display: flex;align-items: stretch;justify-content: center;background-color: white;position: relative;}#sk-container-id-4 div.sk-item::before, #sk-container-id-4 div.sk-parallel-item::before {content: \"\";position: absolute;border-left: 1px solid gray;box-sizing: border-box;top: 0;bottom: 0;left: 50%;z-index: -1;}#sk-container-id-4 div.sk-parallel-item {display: flex;flex-direction: column;z-index: 1;position: relative;background-color: white;}#sk-container-id-4 div.sk-parallel-item:first-child::after {align-self: flex-end;width: 50%;}#sk-container-id-4 div.sk-parallel-item:last-child::after {align-self: flex-start;width: 50%;}#sk-container-id-4 div.sk-parallel-item:only-child::after {width: 0;}#sk-container-id-4 div.sk-dashed-wrapped {border: 1px dashed gray;margin: 0 0.4em 0.5em 0.4em;box-sizing: border-box;padding-bottom: 0.4em;background-color: white;}#sk-container-id-4 div.sk-label label {font-family: monospace;font-weight: bold;display: inline-block;line-height: 1.2em;}#sk-container-id-4 div.sk-label-container {text-align: center;}#sk-container-id-4 div.sk-container {/* jupyter's `normalize.less` sets `[hidden] { display: none; }` but bootstrap.min.css set `[hidden] { display: none !important; }` so we also need the `!important` here to be able to override the default hidden behavior on the sphinx rendered scikit-learn.org. See: https://github.com/scikit-learn/scikit-learn/issues/21755 */display: inline-block !important;position: relative;}#sk-container-id-4 div.sk-text-repr-fallback {display: none;}</style><div id=\"sk-container-id-4\" class=\"sk-top-container\"><div class=\"sk-text-repr-fallback\"><pre>GridSearchCV(estimator=DecisionTreeClassifier(),\n",
       "             param_grid={&#x27;max_depth&#x27;: range(2, 8, 2),\n",
       "                         &#x27;max_features&#x27;: [&#x27;auto&#x27;, &#x27;sqrt&#x27;, &#x27;log2&#x27;],\n",
       "                         &#x27;min_samples_leaf&#x27;: range(1, 4),\n",
       "                         &#x27;min_samples_split&#x27;: range(2, 8, 2)})</pre><b>In a Jupyter environment, please rerun this cell to show the HTML representation or trust the notebook. <br />On GitHub, the HTML representation is unable to render, please try loading this page with nbviewer.org.</b></div><div class=\"sk-container\" hidden><div class=\"sk-item sk-dashed-wrapped\"><div class=\"sk-label-container\"><div class=\"sk-label sk-toggleable\"><input class=\"sk-toggleable__control sk-hidden--visually\" id=\"sk-estimator-id-6\" type=\"checkbox\" ><label for=\"sk-estimator-id-6\" class=\"sk-toggleable__label sk-toggleable__label-arrow\">GridSearchCV</label><div class=\"sk-toggleable__content\"><pre>GridSearchCV(estimator=DecisionTreeClassifier(),\n",
       "             param_grid={&#x27;max_depth&#x27;: range(2, 8, 2),\n",
       "                         &#x27;max_features&#x27;: [&#x27;auto&#x27;, &#x27;sqrt&#x27;, &#x27;log2&#x27;],\n",
       "                         &#x27;min_samples_leaf&#x27;: range(1, 4),\n",
       "                         &#x27;min_samples_split&#x27;: range(2, 8, 2)})</pre></div></div></div><div class=\"sk-parallel\"><div class=\"sk-parallel-item\"><div class=\"sk-item\"><div class=\"sk-label-container\"><div class=\"sk-label sk-toggleable\"><input class=\"sk-toggleable__control sk-hidden--visually\" id=\"sk-estimator-id-7\" type=\"checkbox\" ><label for=\"sk-estimator-id-7\" class=\"sk-toggleable__label sk-toggleable__label-arrow\">estimator: DecisionTreeClassifier</label><div class=\"sk-toggleable__content\"><pre>DecisionTreeClassifier()</pre></div></div></div><div class=\"sk-serial\"><div class=\"sk-item\"><div class=\"sk-estimator sk-toggleable\"><input class=\"sk-toggleable__control sk-hidden--visually\" id=\"sk-estimator-id-8\" type=\"checkbox\" ><label for=\"sk-estimator-id-8\" class=\"sk-toggleable__label sk-toggleable__label-arrow\">DecisionTreeClassifier</label><div class=\"sk-toggleable__content\"><pre>DecisionTreeClassifier()</pre></div></div></div></div></div></div></div></div></div></div>"
      ],
      "text/plain": [
       "GridSearchCV(estimator=DecisionTreeClassifier(),\n",
       "             param_grid={'max_depth': range(2, 8, 2),\n",
       "                         'max_features': ['auto', 'sqrt', 'log2'],\n",
       "                         'min_samples_leaf': range(1, 4),\n",
       "                         'min_samples_split': range(2, 8, 2)})"
      ]
     },
     "execution_count": 35,
     "metadata": {},
     "output_type": "execute_result"
    }
   ],
   "source": [
    "dtree = DecisionTreeClassifier()\n",
    "\n",
    "params = {'max_depth': range(2,8,2), \n",
    "          'min_samples_split': range(2,8,2),\n",
    "          'min_samples_leaf': range(1,4,1),\n",
    "          'max_features': ['auto', 'sqrt', 'log2']}\n",
    "\n",
    "grid_search = GridSearchCV(estimator = dtree, param_grid = params)\n",
    "grid_search.fit(X_train, y_train)"
   ]
  },
  {
   "cell_type": "code",
   "execution_count": 36,
   "id": "6e32384e-8333-4eec-bd98-f53021e0b589",
   "metadata": {},
   "outputs": [
    {
     "name": "stdout",
     "output_type": "stream",
     "text": [
      "0.9347468354430379\n",
      "DecisionTreeClassifier(max_depth=6, max_features='sqrt', min_samples_split=4)\n"
     ]
    }
   ],
   "source": [
    "print(grid_search.best_score_)\n",
    "print(grid_search.best_estimator_)"
   ]
  },
  {
   "cell_type": "code",
   "execution_count": 37,
   "id": "a7d2294e-bba1-4460-812a-19566d7050e2",
   "metadata": {},
   "outputs": [
    {
     "data": {
      "text/html": [
       "<style>#sk-container-id-5 {color: black;background-color: white;}#sk-container-id-5 pre{padding: 0;}#sk-container-id-5 div.sk-toggleable {background-color: white;}#sk-container-id-5 label.sk-toggleable__label {cursor: pointer;display: block;width: 100%;margin-bottom: 0;padding: 0.3em;box-sizing: border-box;text-align: center;}#sk-container-id-5 label.sk-toggleable__label-arrow:before {content: \"▸\";float: left;margin-right: 0.25em;color: #696969;}#sk-container-id-5 label.sk-toggleable__label-arrow:hover:before {color: black;}#sk-container-id-5 div.sk-estimator:hover label.sk-toggleable__label-arrow:before {color: black;}#sk-container-id-5 div.sk-toggleable__content {max-height: 0;max-width: 0;overflow: hidden;text-align: left;background-color: #f0f8ff;}#sk-container-id-5 div.sk-toggleable__content pre {margin: 0.2em;color: black;border-radius: 0.25em;background-color: #f0f8ff;}#sk-container-id-5 input.sk-toggleable__control:checked~div.sk-toggleable__content {max-height: 200px;max-width: 100%;overflow: auto;}#sk-container-id-5 input.sk-toggleable__control:checked~label.sk-toggleable__label-arrow:before {content: \"▾\";}#sk-container-id-5 div.sk-estimator input.sk-toggleable__control:checked~label.sk-toggleable__label {background-color: #d4ebff;}#sk-container-id-5 div.sk-label input.sk-toggleable__control:checked~label.sk-toggleable__label {background-color: #d4ebff;}#sk-container-id-5 input.sk-hidden--visually {border: 0;clip: rect(1px 1px 1px 1px);clip: rect(1px, 1px, 1px, 1px);height: 1px;margin: -1px;overflow: hidden;padding: 0;position: absolute;width: 1px;}#sk-container-id-5 div.sk-estimator {font-family: monospace;background-color: #f0f8ff;border: 1px dotted black;border-radius: 0.25em;box-sizing: border-box;margin-bottom: 0.5em;}#sk-container-id-5 div.sk-estimator:hover {background-color: #d4ebff;}#sk-container-id-5 div.sk-parallel-item::after {content: \"\";width: 100%;border-bottom: 1px solid gray;flex-grow: 1;}#sk-container-id-5 div.sk-label:hover label.sk-toggleable__label {background-color: #d4ebff;}#sk-container-id-5 div.sk-serial::before {content: \"\";position: absolute;border-left: 1px solid gray;box-sizing: border-box;top: 0;bottom: 0;left: 50%;z-index: 0;}#sk-container-id-5 div.sk-serial {display: flex;flex-direction: column;align-items: center;background-color: white;padding-right: 0.2em;padding-left: 0.2em;position: relative;}#sk-container-id-5 div.sk-item {position: relative;z-index: 1;}#sk-container-id-5 div.sk-parallel {display: flex;align-items: stretch;justify-content: center;background-color: white;position: relative;}#sk-container-id-5 div.sk-item::before, #sk-container-id-5 div.sk-parallel-item::before {content: \"\";position: absolute;border-left: 1px solid gray;box-sizing: border-box;top: 0;bottom: 0;left: 50%;z-index: -1;}#sk-container-id-5 div.sk-parallel-item {display: flex;flex-direction: column;z-index: 1;position: relative;background-color: white;}#sk-container-id-5 div.sk-parallel-item:first-child::after {align-self: flex-end;width: 50%;}#sk-container-id-5 div.sk-parallel-item:last-child::after {align-self: flex-start;width: 50%;}#sk-container-id-5 div.sk-parallel-item:only-child::after {width: 0;}#sk-container-id-5 div.sk-dashed-wrapped {border: 1px dashed gray;margin: 0 0.4em 0.5em 0.4em;box-sizing: border-box;padding-bottom: 0.4em;background-color: white;}#sk-container-id-5 div.sk-label label {font-family: monospace;font-weight: bold;display: inline-block;line-height: 1.2em;}#sk-container-id-5 div.sk-label-container {text-align: center;}#sk-container-id-5 div.sk-container {/* jupyter's `normalize.less` sets `[hidden] { display: none; }` but bootstrap.min.css set `[hidden] { display: none !important; }` so we also need the `!important` here to be able to override the default hidden behavior on the sphinx rendered scikit-learn.org. See: https://github.com/scikit-learn/scikit-learn/issues/21755 */display: inline-block !important;position: relative;}#sk-container-id-5 div.sk-text-repr-fallback {display: none;}</style><div id=\"sk-container-id-5\" class=\"sk-top-container\"><div class=\"sk-text-repr-fallback\"><pre>DecisionTreeClassifier(max_depth=4, max_features=&#x27;auto&#x27;, min_samples_leaf=3)</pre><b>In a Jupyter environment, please rerun this cell to show the HTML representation or trust the notebook. <br />On GitHub, the HTML representation is unable to render, please try loading this page with nbviewer.org.</b></div><div class=\"sk-container\" hidden><div class=\"sk-item\"><div class=\"sk-estimator sk-toggleable\"><input class=\"sk-toggleable__control sk-hidden--visually\" id=\"sk-estimator-id-9\" type=\"checkbox\" checked><label for=\"sk-estimator-id-9\" class=\"sk-toggleable__label sk-toggleable__label-arrow\">DecisionTreeClassifier</label><div class=\"sk-toggleable__content\"><pre>DecisionTreeClassifier(max_depth=4, max_features=&#x27;auto&#x27;, min_samples_leaf=3)</pre></div></div></div></div></div>"
      ],
      "text/plain": [
       "DecisionTreeClassifier(max_depth=4, max_features='auto', min_samples_leaf=3)"
      ]
     },
     "execution_count": 37,
     "metadata": {},
     "output_type": "execute_result"
    }
   ],
   "source": [
    "dtree = DecisionTreeClassifier(max_depth=4, max_features='auto', min_samples_leaf=3)\n",
    "dtree.fit(X_train, y_train)"
   ]
  },
  {
   "cell_type": "markdown",
   "id": "33210958-8e81-471a-93b2-87049c7eae07",
   "metadata": {},
   "source": [
    "## Model Evaluation"
   ]
  },
  {
   "cell_type": "code",
   "execution_count": 42,
   "id": "f4b94d54-fccb-4e61-8cc1-f0f00ed90568",
   "metadata": {},
   "outputs": [],
   "source": [
    "from sklearn.metrics import confusion_matrix, classification_report"
   ]
  },
  {
   "cell_type": "code",
   "execution_count": 50,
   "id": "05373012-579f-461b-8576-091f1396ad5f",
   "metadata": {},
   "outputs": [
    {
     "name": "stdout",
     "output_type": "stream",
     "text": [
      "Logistic Regression:\n",
      "    Classification Report: \n",
      "               precision    recall  f1-score   support\n",
      "\n",
      "           0       0.98      0.94      0.96        63\n",
      "           1       0.96      0.99      0.98       108\n",
      "\n",
      "    accuracy                           0.97       171\n",
      "   macro avg       0.97      0.96      0.97       171\n",
      "weighted avg       0.97      0.97      0.97       171\n",
      "\n",
      "    Confusion Matrix: \n",
      " [[ 59   4]\n",
      " [  1 107]]\n",
      "\n",
      "\n",
      "Support Vector Classifier:\n",
      "    Classification Report: \n",
      "               precision    recall  f1-score   support\n",
      "\n",
      "           0       0.87      0.95      0.91        63\n",
      "           1       0.97      0.92      0.94       108\n",
      "\n",
      "    accuracy                           0.93       171\n",
      "   macro avg       0.92      0.93      0.93       171\n",
      "weighted avg       0.93      0.93      0.93       171\n",
      "\n",
      "    Confusion Matrix: \n",
      " [[60  3]\n",
      " [ 9 99]]\n",
      "\n",
      "\n",
      "Decision Tree:\n",
      "    Classification Report: \n",
      "               precision    recall  f1-score   support\n",
      "\n",
      "           0       0.94      0.94      0.94        63\n",
      "           1       0.96      0.96      0.96       108\n",
      "\n",
      "    accuracy                           0.95       171\n",
      "   macro avg       0.95      0.95      0.95       171\n",
      "weighted avg       0.95      0.95      0.95       171\n",
      "\n",
      "    Confusion Matrix: \n",
      " [[ 59   4]\n",
      " [  4 104]]\n",
      "\n",
      "\n"
     ]
    }
   ],
   "source": [
    "print('Logistic Regression:')\n",
    "print('    Classification Report: \\n', classification_report(y_test, lr.predict(X_test)))\n",
    "print('    Confusion Matrix: \\n', confusion_matrix(y_test, lr.predict(X_test)))\n",
    "print('\\n')\n",
    "\n",
    "print('Support Vector Classifier:')\n",
    "print('    Classification Report: \\n', classification_report(y_test, svm.predict(X_test)))\n",
    "print('    Confusion Matrix: \\n', confusion_matrix(y_test, svm.predict(X_test)))\n",
    "print('\\n')\n",
    "\n",
    "print('Decision Tree:')\n",
    "print('    Classification Report: \\n', classification_report(y_test, dtree.predict(X_test)))\n",
    "print('    Confusion Matrix: \\n', confusion_matrix(y_test, dtree.predict(X_test)))\n",
    "print('\\n')\n"
   ]
  },
  {
   "cell_type": "markdown",
   "id": "5ae903be-dcde-49ed-a8a4-b3e3fec80d76",
   "metadata": {
    "tags": []
   },
   "source": [
    "## Decision Tree Feature Importances"
   ]
  },
  {
   "cell_type": "code",
   "execution_count": null,
   "id": "37b83ee3-af29-4e81-9b9b-1f480396ce2c",
   "metadata": {},
   "outputs": [
    {
     "ename": "NameError",
     "evalue": "name 'pd' is not defined",
     "output_type": "error",
     "traceback": [
      "\u001b[1;31m---------------------------------------------------------------------------\u001b[0m",
      "\u001b[1;31mNameError\u001b[0m                                 Traceback (most recent call last)",
      "Cell \u001b[1;32mIn[1], line 1\u001b[0m\n\u001b[1;32m----> 1\u001b[0m df_imp \u001b[38;5;241m=\u001b[39m \u001b[43mpd\u001b[49m\u001b[38;5;241m.\u001b[39mDataFrame({\u001b[38;5;124m'\u001b[39m\u001b[38;5;124mFeature Name\u001b[39m\u001b[38;5;124m'\u001b[39m: X_train\u001b[38;5;241m.\u001b[39mcolumns,\n\u001b[0;32m      2\u001b[0m                       \u001b[38;5;124m'\u001b[39m\u001b[38;5;124mImportance\u001b[39m\u001b[38;5;124m'\u001b[39m: dtree\u001b[38;5;241m.\u001b[39mfeature_importances_ })\n",
      "\u001b[1;31mNameError\u001b[0m: name 'pd' is not defined"
     ]
    }
   ],
   "source": [
    "df_imp = pd.DataFrame({'Feature Name': cancer.feature_names,\n",
    "                      'Importance': dtree.feature_importances_ })"
   ]
  },
  {
   "cell_type": "code",
   "execution_count": 66,
   "id": "b1237659-9fc4-4142-afad-fdb881797575",
   "metadata": {},
   "outputs": [],
   "source": [
    "df_imp = df_imp.sort_values(by = 'Importance', ascending = False). head()"
   ]
  },
  {
   "cell_type": "code",
   "execution_count": 73,
   "id": "9d79c7bc-8bc9-42a7-9247-62c982b48bed",
   "metadata": {},
   "outputs": [
    {
     "data": {
      "text/plain": [
       "Text(0.5, 1.0, 'Feature Importance of \\n Each Attribute (Decision Tree)')"
      ]
     },
     "execution_count": 73,
     "metadata": {},
     "output_type": "execute_result"
    },
    {
     "data": {
      "image/png": "[encoded data removed]",
      "text/plain": [
       "<Figure size 640x480 with 1 Axes>"
      ]
     },
     "metadata": {},
     "output_type": "display_data"
    }
   ],
   "source": [
    "sns.barplot(x = 'Importance', y = 'Feature Name', data = df_imp)\n",
    "plt.title('Feature Importance of \\n Each Attribute (Decision Tree)', fontsize = 15)"
   ]
  },
  {
   "cell_type": "markdown",
   "id": "5736cbcc-29a7-48ab-9c39-e141facef6c4",
   "metadata": {},
   "source": [
    "## Cancer Classification Using TensorFlow Keras"
   ]
  },
  {
   "cell_type": "markdown",
   "id": "ed5c8371-091b-430d-820b-c72458c3e72f",
   "metadata": {},
   "source": [
    "### Scaling Values"
   ]
  },
  {
   "cell_type": "code",
   "execution_count": 74,
   "id": "f1ecf8c0-e72b-4b41-9d82-6f883e4a6185",
   "metadata": {},
   "outputs": [],
   "source": [
    "from sklearn.preprocessing import MinMaxScaler"
   ]
  },
  {
   "cell_type": "code",
   "execution_count": 75,
   "id": "f4c32b69-0c6e-4daf-adea-f40eac7cc27d",
   "metadata": {},
   "outputs": [],
   "source": [
    "scaler = MinMaxScaler()\n",
    "X_train = scaler.fit_transform(X_train)\n",
    "X_test = scaler.transform(X_test)"
   ]
  },
  {
   "cell_type": "code",
   "execution_count": 77,
   "id": "6fdd151e-f9eb-499e-ae4b-3201c4d4b2d0",
   "metadata": {},
   "outputs": [
    {
     "data": {
      "text/plain": [
       "(398, 30)"
      ]
     },
     "execution_count": 77,
     "metadata": {},
     "output_type": "execute_result"
    }
   ],
   "source": [
    "X_train.shape"
   ]
  },
  {
   "cell_type": "markdown",
   "id": "6b2a9fa4-7fe0-4c6d-a35c-4995f9684bb0",
   "metadata": {},
   "source": [
    "### Model Creation"
   ]
  },
  {
   "cell_type": "code",
   "execution_count": 79,
   "id": "a10fc146-1d76-433e-85a7-69640b6a4a4c",
   "metadata": {},
   "outputs": [],
   "source": [
    "from tensorflow.keras.models import Sequential\n",
    "from tensorflow.keras.layers import Dense, Dropout\n",
    "from tensorflow.keras.callbacks import EarlyStopping\n",
    "from tensorflow.keras.optimizers import Adam"
   ]
  },
  {
   "cell_type": "code",
   "execution_count": 88,
   "id": "e0d5e8dd-672a-427c-82dc-babe48ee51e7",
   "metadata": {},
   "outputs": [],
   "source": [
    "early_stop = EarlyStopping(monitor='val_loss', mode='min', verbose = 1, patience = 25)\n",
    "\n",
    "model = Sequential()\n",
    "\n",
    "model.add(Dense(32, input_shape = (None,30), activation = 'relu'))\n",
    "model.add(Dropout(0.2))\n",
    "\n",
    "model.add(Dense(16, activation = 'relu'))\n",
    "model.add(Dropout(0.2))\n",
    "\n",
    "model.add(Dense(1, activation = 'sigmoid'))\n",
    "\n",
    "model.compile(optimizer = Adam(), loss = 'binary_crossentropy', metrics = ['accuracy'])"
   ]
  },
  {
   "cell_type": "code",
   "execution_count": 89,
   "id": "74e415fb-3a53-4180-b8b9-02e793f4f461",
   "metadata": {
    "collapsed": true,
    "jupyter": {
     "outputs_hidden": true
    },
    "tags": []
   },
   "outputs": [
    {
     "name": "stdout",
     "output_type": "stream",
     "text": [
      "Epoch 1/300\n",
      "13/13 [==============================] - 2s 27ms/step - loss: 0.6931 - accuracy: 0.4698 - val_loss: 0.6700 - val_accuracy: 0.7953\n",
      "Epoch 2/300\n",
      "13/13 [==============================] - 0s 7ms/step - loss: 0.6663 - accuracy: 0.6558 - val_loss: 0.6444 - val_accuracy: 0.8655\n",
      "Epoch 3/300\n",
      "13/13 [==============================] - 0s 5ms/step - loss: 0.6475 - accuracy: 0.7261 - val_loss: 0.6102 - val_accuracy: 0.9181\n",
      "Epoch 4/300\n",
      "13/13 [==============================] - 0s 6ms/step - loss: 0.6118 - accuracy: 0.8040 - val_loss: 0.5698 - val_accuracy: 0.9064\n",
      "Epoch 5/300\n",
      "13/13 [==============================] - 0s 6ms/step - loss: 0.5733 - accuracy: 0.8317 - val_loss: 0.5247 - val_accuracy: 0.9006\n",
      "Epoch 6/300\n",
      "13/13 [==============================] - 0s 6ms/step - loss: 0.5429 - accuracy: 0.8141 - val_loss: 0.4775 - val_accuracy: 0.9064\n",
      "Epoch 7/300\n",
      "13/13 [==============================] - 0s 6ms/step - loss: 0.5014 - accuracy: 0.8342 - val_loss: 0.4272 - val_accuracy: 0.9064\n",
      "Epoch 8/300\n",
      "13/13 [==============================] - 0s 6ms/step - loss: 0.4563 - accuracy: 0.8342 - val_loss: 0.3814 - val_accuracy: 0.9298\n",
      "Epoch 9/300\n",
      "13/13 [==============================] - 0s 6ms/step - loss: 0.4090 - accuracy: 0.8618 - val_loss: 0.3373 - val_accuracy: 0.9298\n",
      "Epoch 10/300\n",
      "13/13 [==============================] - 0s 6ms/step - loss: 0.3675 - accuracy: 0.8744 - val_loss: 0.2995 - val_accuracy: 0.9357\n",
      "Epoch 11/300\n",
      "13/13 [==============================] - 0s 6ms/step - loss: 0.3504 - accuracy: 0.8819 - val_loss: 0.2715 - val_accuracy: 0.9298\n",
      "Epoch 12/300\n",
      "13/13 [==============================] - 0s 6ms/step - loss: 0.3302 - accuracy: 0.8844 - val_loss: 0.2491 - val_accuracy: 0.9298\n",
      "Epoch 13/300\n",
      "13/13 [==============================] - 0s 6ms/step - loss: 0.2963 - accuracy: 0.9020 - val_loss: 0.2281 - val_accuracy: 0.9415\n",
      "Epoch 14/300\n",
      "13/13 [==============================] - 0s 5ms/step - loss: 0.2721 - accuracy: 0.9020 - val_loss: 0.2112 - val_accuracy: 0.9415\n",
      "Epoch 15/300\n",
      "13/13 [==============================] - 0s 6ms/step - loss: 0.2775 - accuracy: 0.8869 - val_loss: 0.2008 - val_accuracy: 0.9298\n",
      "Epoch 16/300\n",
      "13/13 [==============================] - 0s 6ms/step - loss: 0.2613 - accuracy: 0.8995 - val_loss: 0.1869 - val_accuracy: 0.9415\n",
      "Epoch 17/300\n",
      "13/13 [==============================] - 0s 7ms/step - loss: 0.2239 - accuracy: 0.9271 - val_loss: 0.1783 - val_accuracy: 0.9357\n",
      "Epoch 18/300\n",
      "13/13 [==============================] - 0s 6ms/step - loss: 0.2211 - accuracy: 0.9070 - val_loss: 0.1703 - val_accuracy: 0.9415\n",
      "Epoch 19/300\n",
      "13/13 [==============================] - 0s 6ms/step - loss: 0.2098 - accuracy: 0.9146 - val_loss: 0.1616 - val_accuracy: 0.9357\n",
      "Epoch 20/300\n",
      "13/13 [==============================] - 0s 6ms/step - loss: 0.2120 - accuracy: 0.9221 - val_loss: 0.1588 - val_accuracy: 0.9474\n",
      "Epoch 21/300\n",
      "13/13 [==============================] - 0s 6ms/step - loss: 0.2008 - accuracy: 0.9322 - val_loss: 0.1483 - val_accuracy: 0.9415\n",
      "Epoch 22/300\n",
      "13/13 [==============================] - 0s 6ms/step - loss: 0.2063 - accuracy: 0.9045 - val_loss: 0.1413 - val_accuracy: 0.9532\n",
      "Epoch 23/300\n",
      "13/13 [==============================] - 0s 6ms/step - loss: 0.1982 - accuracy: 0.9171 - val_loss: 0.1410 - val_accuracy: 0.9474\n",
      "Epoch 24/300\n",
      "13/13 [==============================] - 0s 6ms/step - loss: 0.1867 - accuracy: 0.9196 - val_loss: 0.1321 - val_accuracy: 0.9415\n",
      "Epoch 25/300\n",
      "13/13 [==============================] - 0s 6ms/step - loss: 0.1782 - accuracy: 0.9271 - val_loss: 0.1293 - val_accuracy: 0.9474\n",
      "Epoch 26/300\n",
      "13/13 [==============================] - 0s 6ms/step - loss: 0.1720 - accuracy: 0.9322 - val_loss: 0.1222 - val_accuracy: 0.9532\n",
      "Epoch 27/300\n",
      "13/13 [==============================] - 0s 6ms/step - loss: 0.1674 - accuracy: 0.9472 - val_loss: 0.1189 - val_accuracy: 0.9532\n",
      "Epoch 28/300\n",
      "13/13 [==============================] - 0s 6ms/step - loss: 0.1506 - accuracy: 0.9472 - val_loss: 0.1199 - val_accuracy: 0.9532\n",
      "Epoch 29/300\n",
      "13/13 [==============================] - 0s 6ms/step - loss: 0.1620 - accuracy: 0.9447 - val_loss: 0.1112 - val_accuracy: 0.9649\n",
      "Epoch 30/300\n",
      "13/13 [==============================] - 0s 6ms/step - loss: 0.1504 - accuracy: 0.9372 - val_loss: 0.1071 - val_accuracy: 0.9532\n",
      "Epoch 31/300\n",
      "13/13 [==============================] - 0s 6ms/step - loss: 0.1523 - accuracy: 0.9447 - val_loss: 0.1073 - val_accuracy: 0.9532\n",
      "Epoch 32/300\n",
      "13/13 [==============================] - 0s 6ms/step - loss: 0.1349 - accuracy: 0.9472 - val_loss: 0.1021 - val_accuracy: 0.9649\n",
      "Epoch 33/300\n",
      "13/13 [==============================] - 0s 6ms/step - loss: 0.1388 - accuracy: 0.9523 - val_loss: 0.0993 - val_accuracy: 0.9649\n",
      "Epoch 34/300\n",
      "13/13 [==============================] - 0s 6ms/step - loss: 0.1415 - accuracy: 0.9422 - val_loss: 0.0971 - val_accuracy: 0.9591\n",
      "Epoch 35/300\n",
      "13/13 [==============================] - 0s 6ms/step - loss: 0.1411 - accuracy: 0.9573 - val_loss: 0.0922 - val_accuracy: 0.9649\n",
      "Epoch 36/300\n",
      "13/13 [==============================] - 0s 7ms/step - loss: 0.1296 - accuracy: 0.9548 - val_loss: 0.0876 - val_accuracy: 0.9649\n",
      "Epoch 37/300\n",
      "13/13 [==============================] - 0s 6ms/step - loss: 0.1396 - accuracy: 0.9472 - val_loss: 0.0853 - val_accuracy: 0.9649\n",
      "Epoch 38/300\n",
      "13/13 [==============================] - 0s 5ms/step - loss: 0.1235 - accuracy: 0.9548 - val_loss: 0.0824 - val_accuracy: 0.9708\n",
      "Epoch 39/300\n",
      "13/13 [==============================] - 0s 6ms/step - loss: 0.1266 - accuracy: 0.9573 - val_loss: 0.0837 - val_accuracy: 0.9766\n",
      "Epoch 40/300\n",
      "13/13 [==============================] - 0s 6ms/step - loss: 0.1217 - accuracy: 0.9598 - val_loss: 0.0808 - val_accuracy: 0.9766\n",
      "Epoch 41/300\n",
      "13/13 [==============================] - 0s 6ms/step - loss: 0.1125 - accuracy: 0.9598 - val_loss: 0.0769 - val_accuracy: 0.9708\n",
      "Epoch 42/300\n",
      "13/13 [==============================] - 0s 5ms/step - loss: 0.1070 - accuracy: 0.9673 - val_loss: 0.0765 - val_accuracy: 0.9766\n",
      "Epoch 43/300\n",
      "13/13 [==============================] - 0s 5ms/step - loss: 0.1125 - accuracy: 0.9598 - val_loss: 0.0768 - val_accuracy: 0.9766\n",
      "Epoch 44/300\n",
      "13/13 [==============================] - 0s 6ms/step - loss: 0.1058 - accuracy: 0.9698 - val_loss: 0.0743 - val_accuracy: 0.9825\n",
      "Epoch 45/300\n",
      "13/13 [==============================] - 0s 5ms/step - loss: 0.1092 - accuracy: 0.9623 - val_loss: 0.0710 - val_accuracy: 0.9825\n",
      "Epoch 46/300\n",
      "13/13 [==============================] - 0s 8ms/step - loss: 0.0951 - accuracy: 0.9623 - val_loss: 0.0693 - val_accuracy: 0.9825\n",
      "Epoch 47/300\n",
      "13/13 [==============================] - 0s 6ms/step - loss: 0.1107 - accuracy: 0.9598 - val_loss: 0.0700 - val_accuracy: 0.9825\n",
      "Epoch 48/300\n",
      "13/13 [==============================] - 0s 6ms/step - loss: 0.1023 - accuracy: 0.9648 - val_loss: 0.0688 - val_accuracy: 0.9825\n",
      "Epoch 49/300\n",
      "13/13 [==============================] - 0s 6ms/step - loss: 0.1034 - accuracy: 0.9598 - val_loss: 0.0665 - val_accuracy: 0.9825\n",
      "Epoch 50/300\n",
      "13/13 [==============================] - 0s 6ms/step - loss: 0.0955 - accuracy: 0.9724 - val_loss: 0.0719 - val_accuracy: 0.9825\n",
      "Epoch 51/300\n",
      "13/13 [==============================] - 0s 6ms/step - loss: 0.0991 - accuracy: 0.9598 - val_loss: 0.0643 - val_accuracy: 0.9766\n",
      "Epoch 52/300\n",
      "13/13 [==============================] - 0s 5ms/step - loss: 0.1023 - accuracy: 0.9648 - val_loss: 0.0720 - val_accuracy: 0.9825\n",
      "Epoch 53/300\n",
      "13/13 [==============================] - 0s 6ms/step - loss: 0.0952 - accuracy: 0.9673 - val_loss: 0.0669 - val_accuracy: 0.9825\n",
      "Epoch 54/300\n",
      "13/13 [==============================] - 0s 6ms/step - loss: 0.0831 - accuracy: 0.9799 - val_loss: 0.0642 - val_accuracy: 0.9825\n",
      "Epoch 55/300\n",
      "13/13 [==============================] - 0s 5ms/step - loss: 0.0945 - accuracy: 0.9648 - val_loss: 0.0651 - val_accuracy: 0.9825\n",
      "Epoch 56/300\n",
      "13/13 [==============================] - 0s 5ms/step - loss: 0.0947 - accuracy: 0.9774 - val_loss: 0.0624 - val_accuracy: 0.9766\n",
      "Epoch 57/300\n",
      "13/13 [==============================] - 0s 6ms/step - loss: 0.0917 - accuracy: 0.9698 - val_loss: 0.0648 - val_accuracy: 0.9825\n",
      "Epoch 58/300\n",
      "13/13 [==============================] - 0s 5ms/step - loss: 0.0772 - accuracy: 0.9774 - val_loss: 0.0625 - val_accuracy: 0.9825\n",
      "Epoch 59/300\n",
      "13/13 [==============================] - 0s 6ms/step - loss: 0.0796 - accuracy: 0.9824 - val_loss: 0.0608 - val_accuracy: 0.9825\n",
      "Epoch 60/300\n",
      "13/13 [==============================] - 0s 5ms/step - loss: 0.0786 - accuracy: 0.9824 - val_loss: 0.0580 - val_accuracy: 0.9766\n",
      "Epoch 61/300\n",
      "13/13 [==============================] - 0s 6ms/step - loss: 0.0755 - accuracy: 0.9799 - val_loss: 0.0594 - val_accuracy: 0.9825\n",
      "Epoch 62/300\n",
      "13/13 [==============================] - 0s 6ms/step - loss: 0.0701 - accuracy: 0.9774 - val_loss: 0.0571 - val_accuracy: 0.9766\n",
      "Epoch 63/300\n",
      "13/13 [==============================] - 0s 5ms/step - loss: 0.0889 - accuracy: 0.9673 - val_loss: 0.0572 - val_accuracy: 0.9766\n",
      "Epoch 64/300\n",
      "13/13 [==============================] - 0s 5ms/step - loss: 0.0832 - accuracy: 0.9799 - val_loss: 0.0603 - val_accuracy: 0.9825\n",
      "Epoch 65/300\n",
      "13/13 [==============================] - 0s 6ms/step - loss: 0.0899 - accuracy: 0.9749 - val_loss: 0.0573 - val_accuracy: 0.9766\n",
      "Epoch 66/300\n",
      "13/13 [==============================] - 0s 5ms/step - loss: 0.0726 - accuracy: 0.9824 - val_loss: 0.0589 - val_accuracy: 0.9825\n",
      "Epoch 67/300\n",
      "13/13 [==============================] - 0s 5ms/step - loss: 0.0771 - accuracy: 0.9698 - val_loss: 0.0591 - val_accuracy: 0.9825\n",
      "Epoch 68/300\n",
      "13/13 [==============================] - 0s 6ms/step - loss: 0.0798 - accuracy: 0.9774 - val_loss: 0.0613 - val_accuracy: 0.9825\n",
      "Epoch 69/300\n",
      "13/13 [==============================] - 0s 6ms/step - loss: 0.0733 - accuracy: 0.9749 - val_loss: 0.0556 - val_accuracy: 0.9766\n",
      "Epoch 70/300\n",
      "13/13 [==============================] - 0s 5ms/step - loss: 0.0874 - accuracy: 0.9724 - val_loss: 0.0635 - val_accuracy: 0.9825\n",
      "Epoch 71/300\n",
      "13/13 [==============================] - 0s 5ms/step - loss: 0.0925 - accuracy: 0.9799 - val_loss: 0.0569 - val_accuracy: 0.9766\n",
      "Epoch 72/300\n",
      "13/13 [==============================] - 0s 5ms/step - loss: 0.0758 - accuracy: 0.9749 - val_loss: 0.0576 - val_accuracy: 0.9825\n",
      "Epoch 73/300\n",
      "13/13 [==============================] - 0s 6ms/step - loss: 0.0713 - accuracy: 0.9824 - val_loss: 0.0578 - val_accuracy: 0.9825\n",
      "Epoch 74/300\n",
      "13/13 [==============================] - 0s 5ms/step - loss: 0.0754 - accuracy: 0.9724 - val_loss: 0.0544 - val_accuracy: 0.9766\n",
      "Epoch 75/300\n",
      "13/13 [==============================] - 0s 6ms/step - loss: 0.0806 - accuracy: 0.9724 - val_loss: 0.0558 - val_accuracy: 0.9825\n",
      "Epoch 76/300\n",
      "13/13 [==============================] - 0s 6ms/step - loss: 0.0832 - accuracy: 0.9724 - val_loss: 0.0670 - val_accuracy: 0.9825\n",
      "Epoch 77/300\n",
      "13/13 [==============================] - 0s 5ms/step - loss: 0.0696 - accuracy: 0.9824 - val_loss: 0.0534 - val_accuracy: 0.9766\n",
      "Epoch 78/300\n",
      "13/13 [==============================] - 0s 6ms/step - loss: 0.0766 - accuracy: 0.9774 - val_loss: 0.0559 - val_accuracy: 0.9825\n",
      "Epoch 79/300\n",
      "13/13 [==============================] - 0s 7ms/step - loss: 0.0648 - accuracy: 0.9724 - val_loss: 0.0549 - val_accuracy: 0.9825\n",
      "Epoch 80/300\n",
      "13/13 [==============================] - 0s 6ms/step - loss: 0.0742 - accuracy: 0.9849 - val_loss: 0.0594 - val_accuracy: 0.9825\n",
      "Epoch 81/300\n",
      "13/13 [==============================] - 0s 6ms/step - loss: 0.0666 - accuracy: 0.9849 - val_loss: 0.0524 - val_accuracy: 0.9766\n",
      "Epoch 82/300\n",
      "13/13 [==============================] - 0s 6ms/step - loss: 0.0735 - accuracy: 0.9774 - val_loss: 0.0541 - val_accuracy: 0.9825\n",
      "Epoch 83/300\n",
      "13/13 [==============================] - 0s 6ms/step - loss: 0.0790 - accuracy: 0.9724 - val_loss: 0.0605 - val_accuracy: 0.9825\n",
      "Epoch 84/300\n",
      "13/13 [==============================] - 0s 6ms/step - loss: 0.0636 - accuracy: 0.9774 - val_loss: 0.0561 - val_accuracy: 0.9825\n",
      "Epoch 85/300\n",
      "13/13 [==============================] - 0s 5ms/step - loss: 0.0781 - accuracy: 0.9799 - val_loss: 0.0567 - val_accuracy: 0.9825\n",
      "Epoch 86/300\n",
      "13/13 [==============================] - 0s 5ms/step - loss: 0.0715 - accuracy: 0.9799 - val_loss: 0.0554 - val_accuracy: 0.9825\n",
      "Epoch 87/300\n",
      "13/13 [==============================] - 0s 5ms/step - loss: 0.0643 - accuracy: 0.9824 - val_loss: 0.0523 - val_accuracy: 0.9766\n",
      "Epoch 88/300\n",
      "13/13 [==============================] - 0s 6ms/step - loss: 0.0760 - accuracy: 0.9724 - val_loss: 0.0538 - val_accuracy: 0.9825\n",
      "Epoch 89/300\n",
      "13/13 [==============================] - 0s 6ms/step - loss: 0.0775 - accuracy: 0.9799 - val_loss: 0.0537 - val_accuracy: 0.9825\n",
      "Epoch 90/300\n",
      "13/13 [==============================] - 0s 6ms/step - loss: 0.0633 - accuracy: 0.9799 - val_loss: 0.0580 - val_accuracy: 0.9825\n",
      "Epoch 91/300\n",
      "13/13 [==============================] - 0s 5ms/step - loss: 0.0577 - accuracy: 0.9899 - val_loss: 0.0529 - val_accuracy: 0.9766\n",
      "Epoch 92/300\n",
      "13/13 [==============================] - 0s 6ms/step - loss: 0.0625 - accuracy: 0.9799 - val_loss: 0.0605 - val_accuracy: 0.9825\n",
      "Epoch 93/300\n",
      "13/13 [==============================] - 0s 5ms/step - loss: 0.0588 - accuracy: 0.9799 - val_loss: 0.0528 - val_accuracy: 0.9825\n",
      "Epoch 94/300\n",
      "13/13 [==============================] - 0s 5ms/step - loss: 0.0724 - accuracy: 0.9749 - val_loss: 0.0520 - val_accuracy: 0.9825\n",
      "Epoch 95/300\n",
      "13/13 [==============================] - 0s 6ms/step - loss: 0.0632 - accuracy: 0.9749 - val_loss: 0.0606 - val_accuracy: 0.9825\n",
      "Epoch 96/300\n",
      "13/13 [==============================] - 0s 5ms/step - loss: 0.0781 - accuracy: 0.9749 - val_loss: 0.0539 - val_accuracy: 0.9825\n",
      "Epoch 97/300\n",
      "13/13 [==============================] - 0s 5ms/step - loss: 0.0601 - accuracy: 0.9849 - val_loss: 0.0619 - val_accuracy: 0.9825\n",
      "Epoch 98/300\n",
      "13/13 [==============================] - 0s 6ms/step - loss: 0.0712 - accuracy: 0.9774 - val_loss: 0.0529 - val_accuracy: 0.9825\n",
      "Epoch 99/300\n",
      "13/13 [==============================] - 0s 6ms/step - loss: 0.0557 - accuracy: 0.9849 - val_loss: 0.0520 - val_accuracy: 0.9766\n",
      "Epoch 100/300\n",
      "13/13 [==============================] - 0s 6ms/step - loss: 0.0539 - accuracy: 0.9824 - val_loss: 0.0522 - val_accuracy: 0.9825\n",
      "Epoch 101/300\n",
      "13/13 [==============================] - 0s 6ms/step - loss: 0.0571 - accuracy: 0.9899 - val_loss: 0.0521 - val_accuracy: 0.9825\n",
      "Epoch 102/300\n",
      "13/13 [==============================] - 0s 6ms/step - loss: 0.0646 - accuracy: 0.9824 - val_loss: 0.0493 - val_accuracy: 0.9825\n",
      "Epoch 103/300\n",
      "13/13 [==============================] - 0s 5ms/step - loss: 0.0634 - accuracy: 0.9749 - val_loss: 0.0515 - val_accuracy: 0.9825\n",
      "Epoch 104/300\n",
      "13/13 [==============================] - 0s 5ms/step - loss: 0.0606 - accuracy: 0.9799 - val_loss: 0.0582 - val_accuracy: 0.9825\n",
      "Epoch 105/300\n",
      "13/13 [==============================] - 0s 5ms/step - loss: 0.0750 - accuracy: 0.9749 - val_loss: 0.0521 - val_accuracy: 0.9825\n",
      "Epoch 106/300\n",
      "13/13 [==============================] - 0s 6ms/step - loss: 0.0639 - accuracy: 0.9799 - val_loss: 0.0520 - val_accuracy: 0.9825\n",
      "Epoch 107/300\n",
      "13/13 [==============================] - 0s 5ms/step - loss: 0.0583 - accuracy: 0.9874 - val_loss: 0.0537 - val_accuracy: 0.9825\n",
      "Epoch 108/300\n",
      "13/13 [==============================] - 0s 5ms/step - loss: 0.0674 - accuracy: 0.9749 - val_loss: 0.0513 - val_accuracy: 0.9825\n",
      "Epoch 109/300\n",
      "13/13 [==============================] - 0s 5ms/step - loss: 0.0590 - accuracy: 0.9774 - val_loss: 0.0610 - val_accuracy: 0.9825\n",
      "Epoch 110/300\n",
      "13/13 [==============================] - 0s 6ms/step - loss: 0.0614 - accuracy: 0.9799 - val_loss: 0.0512 - val_accuracy: 0.9766\n",
      "Epoch 111/300\n",
      "13/13 [==============================] - 0s 5ms/step - loss: 0.0620 - accuracy: 0.9799 - val_loss: 0.0545 - val_accuracy: 0.9825\n",
      "Epoch 112/300\n",
      "13/13 [==============================] - 0s 6ms/step - loss: 0.0713 - accuracy: 0.9698 - val_loss: 0.0523 - val_accuracy: 0.9825\n",
      "Epoch 113/300\n",
      "13/13 [==============================] - 0s 5ms/step - loss: 0.0623 - accuracy: 0.9749 - val_loss: 0.0544 - val_accuracy: 0.9825\n",
      "Epoch 114/300\n",
      "13/13 [==============================] - 0s 6ms/step - loss: 0.0574 - accuracy: 0.9799 - val_loss: 0.0518 - val_accuracy: 0.9825\n",
      "Epoch 115/300\n",
      "13/13 [==============================] - 0s 5ms/step - loss: 0.0525 - accuracy: 0.9824 - val_loss: 0.0540 - val_accuracy: 0.9825\n",
      "Epoch 116/300\n",
      "13/13 [==============================] - 0s 6ms/step - loss: 0.0531 - accuracy: 0.9849 - val_loss: 0.0513 - val_accuracy: 0.9825\n",
      "Epoch 117/300\n",
      "13/13 [==============================] - 0s 6ms/step - loss: 0.0577 - accuracy: 0.9799 - val_loss: 0.0536 - val_accuracy: 0.9825\n",
      "Epoch 118/300\n",
      "13/13 [==============================] - 0s 5ms/step - loss: 0.0555 - accuracy: 0.9849 - val_loss: 0.0502 - val_accuracy: 0.9825\n",
      "Epoch 119/300\n",
      "13/13 [==============================] - 0s 5ms/step - loss: 0.0537 - accuracy: 0.9799 - val_loss: 0.0545 - val_accuracy: 0.9825\n",
      "Epoch 120/300\n",
      "13/13 [==============================] - 0s 6ms/step - loss: 0.0601 - accuracy: 0.9749 - val_loss: 0.0520 - val_accuracy: 0.9825\n",
      "Epoch 121/300\n",
      "13/13 [==============================] - 0s 6ms/step - loss: 0.0585 - accuracy: 0.9724 - val_loss: 0.0529 - val_accuracy: 0.9825\n",
      "Epoch 122/300\n",
      "13/13 [==============================] - 0s 6ms/step - loss: 0.0537 - accuracy: 0.9824 - val_loss: 0.0517 - val_accuracy: 0.9825\n",
      "Epoch 123/300\n",
      "13/13 [==============================] - 0s 5ms/step - loss: 0.0574 - accuracy: 0.9824 - val_loss: 0.0587 - val_accuracy: 0.9825\n",
      "Epoch 124/300\n",
      "13/13 [==============================] - 0s 5ms/step - loss: 0.0622 - accuracy: 0.9824 - val_loss: 0.0571 - val_accuracy: 0.9825\n",
      "Epoch 125/300\n",
      "13/13 [==============================] - 0s 5ms/step - loss: 0.0514 - accuracy: 0.9799 - val_loss: 0.0520 - val_accuracy: 0.9825\n",
      "Epoch 126/300\n",
      "13/13 [==============================] - 0s 5ms/step - loss: 0.0698 - accuracy: 0.9774 - val_loss: 0.0505 - val_accuracy: 0.9825\n",
      "Epoch 127/300\n",
      "13/13 [==============================] - 0s 6ms/step - loss: 0.0520 - accuracy: 0.9849 - val_loss: 0.0495 - val_accuracy: 0.9825\n",
      "Epoch 127: early stopping\n"
     ]
    },
    {
     "data": {
      "text/plain": [
       "<keras.callbacks.History at 0x265aa910b20>"
      ]
     },
     "execution_count": 89,
     "metadata": {},
     "output_type": "execute_result"
    }
   ],
   "source": [
    "model.fit(X_train, y_train,  epochs = 300, validation_data = (X_test, y_test),\n",
    "         callbacks = [early_stop])"
   ]
  },
  {
   "cell_type": "code",
   "execution_count": 95,
   "id": "3ef70e8a-bd6b-4475-b1d1-8ce878fea172",
   "metadata": {},
   "outputs": [
    {
     "data": {
      "text/plain": [
       "<matplotlib.legend.Legend at 0x265b2476110>"
      ]
     },
     "execution_count": 95,
     "metadata": {},
     "output_type": "execute_result"
    },
    {
     "data": {
      "image/png": "[encoded data removed]",
      "text/plain": [
       "<Figure size 640x480 with 1 Axes>"
      ]
     },
     "metadata": {},
     "output_type": "display_data"
    }
   ],
   "source": [
    "plt.plot(model.history.history['loss'], label = 'loss')\n",
    "plt.plot(model.history.history['val_loss'], label = 'val_loss')\n",
    "plt.legend()"
   ]
  },
  {
   "cell_type": "code",
   "execution_count": 96,
   "id": "10321098-a322-4bb3-b19c-747630e9b199",
   "metadata": {},
   "outputs": [
    {
     "data": {
      "text/plain": [
       "<matplotlib.legend.Legend at 0x265b257f430>"
      ]
     },
     "execution_count": 96,
     "metadata": {},
     "output_type": "execute_result"
    },
    {
     "data": {
      "image/png": "[encoded data removed]",
      "text/plain": [
       "<Figure size 640x480 with 1 Axes>"
      ]
     },
     "metadata": {},
     "output_type": "display_data"
    }
   ],
   "source": [
    "plt.plot(model.history.history['accuracy'], label = 'accuracy')\n",
    "plt.plot(model.history.history['val_accuracy'], label = 'val_accuracy')\n",
    "plt.legend()"
   ]
  },
  {
   "cell_type": "markdown",
   "id": "3c2e788a-9550-4721-baaa-f596208e2711",
   "metadata": {},
   "source": [
    "## Model Evaluation"
   ]
  },
  {
   "cell_type": "code",
   "execution_count": 97,
   "id": "477b77b8-fa1b-4e0b-8c97-9651a06446f7",
   "metadata": {},
   "outputs": [
    {
     "name": "stdout",
     "output_type": "stream",
     "text": [
      "6/6 [==============================] - 0s 2ms/step\n"
     ]
    }
   ],
   "source": [
    "predict_x = model.predict(X_test)\n",
    "y_pred = np.round(predict_x).astype(int)"
   ]
  },
  {
   "cell_type": "code",
   "execution_count": 98,
   "id": "355f6120-fe08-43fe-a210-e2a9b9487004",
   "metadata": {},
   "outputs": [
    {
     "name": "stdout",
     "output_type": "stream",
     "text": [
      "Deep Learning:\n",
      "    Classification Report: \n",
      "               precision    recall  f1-score   support\n",
      "\n",
      "           0       0.97      0.98      0.98        63\n",
      "           1       0.99      0.98      0.99       108\n",
      "\n",
      "    accuracy                           0.98       171\n",
      "   macro avg       0.98      0.98      0.98       171\n",
      "weighted avg       0.98      0.98      0.98       171\n",
      "\n",
      "    Confusion Matrix: \n",
      " [[ 62   1]\n",
      " [  2 106]]\n"
     ]
    }
   ],
   "source": [
    "print('Deep Learning:')\n",
    "print('    Classification Report: \\n', classification_report(y_test, y_pred))\n",
    "print('    Confusion Matrix: \\n', confusion_matrix(y_test, y_pred))"
   ]
  },
  {
   "cell_type": "code",
   "execution_count": null,
   "id": "d1e7d8cc-9205-4247-99b8-f092a2772fb9",
   "metadata": {},
   "outputs": [],
   "source": []
  }
 ],
 "metadata": {
  "kernelspec": {
   "display_name": "Python 3 (ipykernel)",
   "language": "python",
   "name": "python3"
  },
  "language_info": {
   "codemirror_mode": {
    "name": "ipython",
    "version": 3
   },
   "file_extension": ".py",
   "mimetype": "text/x-python",
   "name": "python",
   "nbconvert_exporter": "python",
   "pygments_lexer": "ipython3",
   "version": "3.10.9"
  }
 },
 "nbformat": 4,
 "nbformat_minor": 5
}
